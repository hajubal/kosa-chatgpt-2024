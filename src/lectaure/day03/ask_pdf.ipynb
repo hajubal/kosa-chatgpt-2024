{
 "cells": [
  {
   "cell_type": "code",
   "execution_count": 1,
   "id": "f33b0a39",
   "metadata": {},
   "outputs": [
    {
     "name": "stdout",
     "output_type": "stream",
     "text": [
      "Defaulting to user installation because normal site-packages is not writeable\n",
      "Requirement already satisfied: ipywidgets in /usr/local/lib/python3.10/dist-packages (8.1.2)\n",
      "Requirement already satisfied: comm>=0.1.3 in /usr/local/lib/python3.10/dist-packages (from ipywidgets) (0.2.1)\n",
      "Requirement already satisfied: traitlets>=4.3.1 in /usr/local/lib/python3.10/dist-packages (from ipywidgets) (5.14.1)\n",
      "Requirement already satisfied: widgetsnbextension~=4.0.10 in /usr/local/lib/python3.10/dist-packages (from ipywidgets) (4.0.10)\n",
      "Requirement already satisfied: jupyterlab-widgets~=3.0.10 in /usr/local/lib/python3.10/dist-packages (from ipywidgets) (3.0.10)\n",
      "Requirement already satisfied: ipython>=6.1.0 in /usr/local/lib/python3.10/dist-packages (from ipywidgets) (8.22.2)\n",
      "Requirement already satisfied: exceptiongroup in /usr/local/lib/python3.10/dist-packages (from ipython>=6.1.0->ipywidgets) (1.2.0)\n",
      "Requirement already satisfied: prompt-toolkit<3.1.0,>=3.0.41 in /usr/local/lib/python3.10/dist-packages (from ipython>=6.1.0->ipywidgets) (3.0.43)\n",
      "Requirement already satisfied: jedi>=0.16 in /usr/local/lib/python3.10/dist-packages (from ipython>=6.1.0->ipywidgets) (0.19.1)\n",
      "Requirement already satisfied: pexpect>4.3 in /usr/local/lib/python3.10/dist-packages (from ipython>=6.1.0->ipywidgets) (4.9.0)\n",
      "Requirement already satisfied: pygments>=2.4.0 in /usr/local/lib/python3.10/dist-packages (from ipython>=6.1.0->ipywidgets) (2.17.2)\n",
      "Requirement already satisfied: decorator in /usr/local/lib/python3.10/dist-packages (from ipython>=6.1.0->ipywidgets) (5.1.1)\n",
      "Requirement already satisfied: stack-data in /usr/local/lib/python3.10/dist-packages (from ipython>=6.1.0->ipywidgets) (0.6.3)\n",
      "Requirement already satisfied: matplotlib-inline in /usr/local/lib/python3.10/dist-packages (from ipython>=6.1.0->ipywidgets) (0.1.6)\n",
      "Requirement already satisfied: parso<0.9.0,>=0.8.3 in /usr/local/lib/python3.10/dist-packages (from jedi>=0.16->ipython>=6.1.0->ipywidgets) (0.8.3)\n",
      "Requirement already satisfied: ptyprocess>=0.5 in /usr/local/lib/python3.10/dist-packages (from pexpect>4.3->ipython>=6.1.0->ipywidgets) (0.7.0)\n",
      "Requirement already satisfied: wcwidth in /usr/local/lib/python3.10/dist-packages (from prompt-toolkit<3.1.0,>=3.0.41->ipython>=6.1.0->ipywidgets) (0.2.13)\n",
      "Requirement already satisfied: executing>=1.2.0 in /usr/local/lib/python3.10/dist-packages (from stack-data->ipython>=6.1.0->ipywidgets) (2.0.1)\n",
      "Requirement already satisfied: pure-eval in /usr/local/lib/python3.10/dist-packages (from stack-data->ipython>=6.1.0->ipywidgets) (0.2.2)\n",
      "Requirement already satisfied: asttokens>=2.1.0 in /usr/local/lib/python3.10/dist-packages (from stack-data->ipython>=6.1.0->ipywidgets) (2.4.1)\n",
      "Requirement already satisfied: six>=1.12.0 in /usr/lib/python3/dist-packages (from asttokens>=2.1.0->stack-data->ipython>=6.1.0->ipywidgets) (1.16.0)\n"
     ]
    }
   ],
   "source": [
    "!pip install -U ipywidgets"
   ]
  },
  {
   "cell_type": "code",
   "execution_count": 2,
   "id": "5da9de9d-59ab-4645-a09c-baf6dff09fb1",
   "metadata": {},
   "outputs": [
    {
     "name": "stdout",
     "output_type": "stream",
     "text": [
      "Defaulting to user installation because normal site-packages is not writeable\n",
      "Requirement already satisfied: openai in /usr/local/lib/python3.10/dist-packages (1.13.3)\n",
      "Requirement already satisfied: anyio<5,>=3.5.0 in /usr/local/lib/python3.10/dist-packages (from openai) (4.3.0)\n",
      "Requirement already satisfied: sniffio in /usr/local/lib/python3.10/dist-packages (from openai) (1.3.1)\n",
      "Requirement already satisfied: typing-extensions<5,>=4.7 in /usr/local/lib/python3.10/dist-packages (from openai) (4.10.0)\n",
      "Requirement already satisfied: httpx<1,>=0.23.0 in /usr/local/lib/python3.10/dist-packages (from openai) (0.27.0)\n",
      "Requirement already satisfied: tqdm>4 in /usr/local/lib/python3.10/dist-packages (from openai) (4.66.2)\n",
      "Requirement already satisfied: pydantic<3,>=1.9.0 in /usr/local/lib/python3.10/dist-packages (from openai) (2.6.3)\n",
      "Requirement already satisfied: distro<2,>=1.7.0 in /usr/lib/python3/dist-packages (from openai) (1.7.0)\n",
      "Requirement already satisfied: idna>=2.8 in /usr/local/lib/python3.10/dist-packages (from anyio<5,>=3.5.0->openai) (3.6)\n",
      "Requirement already satisfied: exceptiongroup>=1.0.2 in /usr/local/lib/python3.10/dist-packages (from anyio<5,>=3.5.0->openai) (1.2.0)\n",
      "Requirement already satisfied: httpcore==1.* in /usr/local/lib/python3.10/dist-packages (from httpx<1,>=0.23.0->openai) (1.0.4)\n",
      "Requirement already satisfied: certifi in /usr/local/lib/python3.10/dist-packages (from httpx<1,>=0.23.0->openai) (2024.2.2)\n",
      "Requirement already satisfied: h11<0.15,>=0.13 in /usr/local/lib/python3.10/dist-packages (from httpcore==1.*->httpx<1,>=0.23.0->openai) (0.14.0)\n",
      "Requirement already satisfied: pydantic-core==2.16.3 in /usr/local/lib/python3.10/dist-packages (from pydantic<3,>=1.9.0->openai) (2.16.3)\n",
      "Requirement already satisfied: annotated-types>=0.4.0 in /usr/local/lib/python3.10/dist-packages (from pydantic<3,>=1.9.0->openai) (0.6.0)\n",
      "Defaulting to user installation because normal site-packages is not writeable\n",
      "Requirement already satisfied: langchain in /home/ubuntu/.local/lib/python3.10/site-packages (0.1.11)\n",
      "Requirement already satisfied: langchain-community<0.1,>=0.0.25 in /home/ubuntu/.local/lib/python3.10/site-packages (from langchain) (0.0.27)\n",
      "Requirement already satisfied: langsmith<0.2.0,>=0.1.17 in /home/ubuntu/.local/lib/python3.10/site-packages (from langchain) (0.1.23)\n",
      "Requirement already satisfied: tenacity<9.0.0,>=8.1.0 in /home/ubuntu/.local/lib/python3.10/site-packages (from langchain) (8.2.3)\n",
      "Requirement already satisfied: aiohttp<4.0.0,>=3.8.3 in /home/ubuntu/.local/lib/python3.10/site-packages (from langchain) (3.9.3)\n",
      "Requirement already satisfied: PyYAML>=5.3 in /usr/lib/python3/dist-packages (from langchain) (5.4.1)\n",
      "Requirement already satisfied: dataclasses-json<0.7,>=0.5.7 in /home/ubuntu/.local/lib/python3.10/site-packages (from langchain) (0.6.4)\n",
      "Requirement already satisfied: async-timeout<5.0.0,>=4.0.0 in /home/ubuntu/.local/lib/python3.10/site-packages (from langchain) (4.0.3)\n",
      "Requirement already satisfied: jsonpatch<2.0,>=1.33 in /home/ubuntu/.local/lib/python3.10/site-packages (from langchain) (1.33)\n",
      "Requirement already satisfied: numpy<2,>=1 in /home/ubuntu/.local/lib/python3.10/site-packages (from langchain) (1.26.4)\n",
      "Requirement already satisfied: SQLAlchemy<3,>=1.4 in /home/ubuntu/.local/lib/python3.10/site-packages (from langchain) (2.0.28)\n",
      "Requirement already satisfied: requests<3,>=2 in /usr/local/lib/python3.10/dist-packages (from langchain) (2.31.0)\n",
      "Requirement already satisfied: pydantic<3,>=1 in /usr/local/lib/python3.10/dist-packages (from langchain) (2.6.3)\n",
      "Requirement already satisfied: langchain-core<0.2,>=0.1.29 in /home/ubuntu/.local/lib/python3.10/site-packages (from langchain) (0.1.30)\n",
      "Requirement already satisfied: langchain-text-splitters<0.1,>=0.0.1 in /home/ubuntu/.local/lib/python3.10/site-packages (from langchain) (0.0.1)\n",
      "Requirement already satisfied: multidict<7.0,>=4.5 in /home/ubuntu/.local/lib/python3.10/site-packages (from aiohttp<4.0.0,>=3.8.3->langchain) (6.0.5)\n",
      "Requirement already satisfied: attrs>=17.3.0 in /usr/local/lib/python3.10/dist-packages (from aiohttp<4.0.0,>=3.8.3->langchain) (23.2.0)\n",
      "Requirement already satisfied: frozenlist>=1.1.1 in /home/ubuntu/.local/lib/python3.10/site-packages (from aiohttp<4.0.0,>=3.8.3->langchain) (1.4.1)\n",
      "Requirement already satisfied: aiosignal>=1.1.2 in /home/ubuntu/.local/lib/python3.10/site-packages (from aiohttp<4.0.0,>=3.8.3->langchain) (1.3.1)\n",
      "Requirement already satisfied: yarl<2.0,>=1.0 in /home/ubuntu/.local/lib/python3.10/site-packages (from aiohttp<4.0.0,>=3.8.3->langchain) (1.9.4)\n",
      "Requirement already satisfied: typing-inspect<1,>=0.4.0 in /home/ubuntu/.local/lib/python3.10/site-packages (from dataclasses-json<0.7,>=0.5.7->langchain) (0.9.0)\n",
      "Requirement already satisfied: marshmallow<4.0.0,>=3.18.0 in /home/ubuntu/.local/lib/python3.10/site-packages (from dataclasses-json<0.7,>=0.5.7->langchain) (3.21.1)\n",
      "Requirement already satisfied: jsonpointer>=1.9 in /usr/local/lib/python3.10/dist-packages (from jsonpatch<2.0,>=1.33->langchain) (2.4)\n",
      "Requirement already satisfied: packaging<24.0,>=23.2 in /home/ubuntu/.local/lib/python3.10/site-packages (from langchain-core<0.2,>=0.1.29->langchain) (23.2)\n",
      "Requirement already satisfied: anyio<5,>=3 in /usr/local/lib/python3.10/dist-packages (from langchain-core<0.2,>=0.1.29->langchain) (4.3.0)\n",
      "Requirement already satisfied: orjson<4.0.0,>=3.9.14 in /home/ubuntu/.local/lib/python3.10/site-packages (from langsmith<0.2.0,>=0.1.17->langchain) (3.9.15)\n",
      "Requirement already satisfied: pydantic-core==2.16.3 in /usr/local/lib/python3.10/dist-packages (from pydantic<3,>=1->langchain) (2.16.3)\n",
      "Requirement already satisfied: annotated-types>=0.4.0 in /usr/local/lib/python3.10/dist-packages (from pydantic<3,>=1->langchain) (0.6.0)\n",
      "Requirement already satisfied: typing-extensions>=4.6.1 in /usr/local/lib/python3.10/dist-packages (from pydantic<3,>=1->langchain) (4.10.0)\n",
      "Requirement already satisfied: charset-normalizer<4,>=2 in /usr/local/lib/python3.10/dist-packages (from requests<3,>=2->langchain) (3.3.2)\n",
      "Requirement already satisfied: idna<4,>=2.5 in /usr/local/lib/python3.10/dist-packages (from requests<3,>=2->langchain) (3.6)\n",
      "Requirement already satisfied: certifi>=2017.4.17 in /usr/local/lib/python3.10/dist-packages (from requests<3,>=2->langchain) (2024.2.2)\n",
      "Requirement already satisfied: urllib3<3,>=1.21.1 in /usr/local/lib/python3.10/dist-packages (from requests<3,>=2->langchain) (2.2.1)\n",
      "Requirement already satisfied: greenlet!=0.4.17 in /home/ubuntu/.local/lib/python3.10/site-packages (from SQLAlchemy<3,>=1.4->langchain) (3.0.3)\n",
      "Requirement already satisfied: sniffio>=1.1 in /usr/local/lib/python3.10/dist-packages (from anyio<5,>=3->langchain-core<0.2,>=0.1.29->langchain) (1.3.1)\n",
      "Requirement already satisfied: exceptiongroup>=1.0.2 in /usr/local/lib/python3.10/dist-packages (from anyio<5,>=3->langchain-core<0.2,>=0.1.29->langchain) (1.2.0)\n",
      "Requirement already satisfied: mypy-extensions>=0.3.0 in /home/ubuntu/.local/lib/python3.10/site-packages (from typing-inspect<1,>=0.4.0->dataclasses-json<0.7,>=0.5.7->langchain) (1.0.0)\n"
     ]
    }
   ],
   "source": [
    "!pip install openai\n",
    "!pip install langchain"
   ]
  },
  {
   "cell_type": "code",
   "execution_count": 3,
   "id": "f0c38788-e94e-44af-a4de-8dbc7f9c06a2",
   "metadata": {},
   "outputs": [
    {
     "data": {
      "application/vnd.jupyter.widget-view+json": {
       "model_id": "a3032125a7324db09e1fda45c7cb1756",
       "version_major": 2,
       "version_minor": 0
      },
      "text/plain": [
       "FileUpload(value=(), accept='.pdf', description='Upload', multiple=True)"
      ]
     },
     "metadata": {},
     "output_type": "display_data"
    }
   ],
   "source": [
    "# Jupyter Extension을 prelease 버전으로 해야 제대로 로딩됨 \n",
    "\n",
    "from ipywidgets import FileUpload\n",
    "from IPython.display import display\n",
    "\n",
    "uploader = FileUpload(accept='.pdf', multiple=True)\n",
    "display(uploader)"
   ]
  },
  {
   "cell_type": "code",
   "execution_count": 4,
   "id": "f7adae16-5cc7-4fe2-9be5-b70145edf644",
   "metadata": {},
   "outputs": [
    {
     "name": "stdout",
     "output_type": "stream",
     "text": [
      "{'name': '소나기 - 황순원.pdf', 'type': 'application/pdf', 'size': 123544, 'content': <memory at 0x7f4e0850c880>, 'last_modified': datetime.datetime(2023, 7, 18, 8, 55, 42, 450000, tzinfo=datetime.timezone.utc)}\n"
     ]
    }
   ],
   "source": [
    "print(uploader.value[0])"
   ]
  },
  {
   "cell_type": "code",
   "execution_count": 5,
   "id": "3be26be2",
   "metadata": {},
   "outputs": [],
   "source": [
    "bytes_data = uploader.value[0].content.tobytes()"
   ]
  },
  {
   "cell_type": "code",
   "execution_count": 6,
   "id": "cd8e153d",
   "metadata": {},
   "outputs": [
    {
     "name": "stdout",
     "output_type": "stream",
     "text": [
      "<class 'bytes'>\n"
     ]
    }
   ],
   "source": [
    "print(type(bytes_data))"
   ]
  },
  {
   "cell_type": "code",
   "execution_count": 7,
   "id": "72b29532-6d28-4d2d-b8a1-0d4c1acb3c2b",
   "metadata": {},
   "outputs": [
    {
     "name": "stdout",
     "output_type": "stream",
     "text": [
      "Uploaded and saved: 소나기 - 황순원.pdf\n"
     ]
    }
   ],
   "source": [
    "import os\n",
    "\n",
    "def save_uploaded_pdf(uploader):\n",
    "    uploaded_file = list(uploader.value)[0]\n",
    "    file_name = uploaded_file['name']\n",
    "    save_path = os.path.join(os.getcwd(), file_name)\n",
    "    with open(save_path, 'wb') as f:\n",
    "        f.write(uploaded_file['content'])\n",
    "    \n",
    "    print(f'Uploaded and saved: {file_name}')\n",
    "    return file_name\n",
    "\n",
    "file_name = save_uploaded_pdf(uploader)"
   ]
  },
  {
   "cell_type": "code",
   "execution_count": 8,
   "id": "8a688682-e1ed-4281-97be-0f31df7390f1",
   "metadata": {},
   "outputs": [
    {
     "name": "stdout",
     "output_type": "stream",
     "text": [
      "Defaulting to user installation because normal site-packages is not writeable\n",
      "Requirement already satisfied: pypdf in /home/ubuntu/.local/lib/python3.10/site-packages (4.1.0)\n"
     ]
    }
   ],
   "source": [
    "!pip install pypdf"
   ]
  },
  {
   "cell_type": "code",
   "execution_count": 9,
   "id": "724b22f5-41d7-467e-94f2-a59d73207f13",
   "metadata": {},
   "outputs": [],
   "source": [
    "from langchain.document_loaders import PyPDFLoader\n",
    "\n",
    "loader = PyPDFLoader(file_name)\n",
    "pages = loader.load_and_split()"
   ]
  },
  {
   "cell_type": "code",
   "execution_count": 10,
   "id": "4095660c-dd5c-4881-9e71-0753a78a0f00",
   "metadata": {},
   "outputs": [
    {
     "data": {
      "text/plain": [
       "7"
      ]
     },
     "execution_count": 10,
     "metadata": {},
     "output_type": "execute_result"
    }
   ],
   "source": [
    "from langchain.document_loaders import PyPDFLoader\n",
    "\n",
    "loader = PyPDFLoader(file_name)\n",
    "documents = loader.load()\n",
    "\n",
    "from langchain.text_splitter import CharacterTextSplitter\n",
    "\n",
    "text_splitter = CharacterTextSplitter(chunk_size=1000, chunk_overlap=0)\n",
    "docs = text_splitter.split_documents(documents)\n",
    "len(docs)"
   ]
  },
  {
   "cell_type": "code",
   "execution_count": 11,
   "id": "d2e8908a-763c-4159-999e-9141fcbf25a5",
   "metadata": {},
   "outputs": [
    {
     "data": {
      "text/plain": [
       "[Document(page_content='- 1 -소나기\\n황순원\\n소년은 개울가에서 소녀를 보자 곧 윤 초시네 증손녀 (曾孫女 )딸이라는 걸 알 수 있었다 . \\n소녀는 개울에다 손을 잠그고 물장난을 하고 있는 것이다 . 서울서는 이런 개울물을 보지 \\n못하기나 한 듯이.\\n벌써 며칠째 소녀는 , 학교에서 돌아오는 길에 물장난이었다 . 그런데 , 어제까지 개울 기슭에\\n서 하더니 , 오늘은 징검다리 한가운데 앉아서 하고 있다.\\n소년은 개울둑에 앉아 버렸다 . 소녀가 비키기를 기다리자는 것이다 .\\n요행 지나가는 사람이 있어, 소녀가 길을 비켜 주었다 .\\n다음 날은 좀 늦게 개울가로 나왔다 .\\n이 날은 소녀가 징검다리 한가운데 앉아 세수를 하고 있었다 . 분홍 스웨터 소매를 걷어올\\n린 목덜미가 마냥 희었다 .\\n한참 세수를 하고 나더니 , 이번에는 물 속을 빤히 들여다 본다. 얼굴이라도 비추어 보는 \\n것이리라 . 갑자기 물을 움켜 낸다. 고기 새끼라도 지나가는 듯.\\n소녀는 소년이 개울둑에 앉아 있는 걸 아는지 모르는지 그냥 날쌔게 물만 움켜 낸다. 그러\\n나, 번번이 허탕이다 . 그대로 재미있는 양, 자꾸 물만 움킨다 . 어제처럼 개울을 건너는 사\\n람이 있어야 길을 비킬 모양이다 .\\n그러다가 소녀가 물 속에서 무엇을 하나 집어 낸다. 하얀 조약돌이었다 . 그리고는 벌떡 일\\n어나 팔짝팔짝 징검다리를 뛰어 건너간다 .\\n다 건너가더니만 홱 이리로 돌아서며 ,\\n“이 바보.”\\n조약돌이 날아왔다 .\\n소년은 저도 모르게 벌떡 일어섰다 .\\n단발 머리를 나풀거리며 소녀가 막 달린다 . 갈밭 사잇길로 들어섰다 . 뒤에는 청량한 가을 \\n햇살 아래 빛나는 갈꽃뿐 .\\n이제 저쯤 갈밭머리로 소녀가 나타나리라 . 꽤 오랜 시간이 지났다고 생각됐다 . 그런데도 \\n소녀는 나타나지 않는다 . 발돋움을 했다. 그러고도 상당한 시간이 지났다고 생각됐다 .\\n저 쪽 갈밭머리에 갈꽃이 한 옴큼 움직였다 . 소녀가 갈꽃을 안고 있었다 . 그리고 , 이제는 \\n천천한 걸음이었다 . 유난히 맑은 가을 햇살이 소녀의 갈꽃머리에서 반짝거렸다 . 소녀 아닌 \\n갈꽃이 들길을 걸어가는 것만 같았다 .\\n소년은 이 갈꽃이 아주 뵈지 않게 되기까지 그대로 서 있었다 . 문득, 소녀가 던지 조약돌\\n을 내려다보았다 . 물기가 걷혀 있었다 . 소년은 조약돌을 집어 주머니에 넣었다 .\\n다음 날부터 좀더 늦게 개울가로 나왔다 . 소녀의 그림자가 뵈지 않았다 . 다행이었다 .\\n그러나 , 이상한 일이었다 . 소녀의 그림자가 뵈지 않는 날이 계속될수록 소년의 가슴 한 구\\n석에는 어딘가 허전함이 자리 잡는 것이었다 . 주머니 속 조약돌을 주무르는 버릇이 생겼\\n다.\\n그러한 어떤 날, 소년은 전에 소녀가 앉아 물장난을 하던 징검다리 한가운데에 앉아 보았\\n다. 물 속에 손을 잠갔다 . 세수를 하였다 . 물 속을 들여다보았다 . 검게 탄 얼굴이 그대로 \\n비치었다 . 싫었다 .', metadata={'source': '소나기 - 황순원.pdf', 'page': 0}),\n",
       " Document(page_content='- 2 -소년은 두 손으로 물 속의 얼굴을 움키었다 . 몇 번이고 움키었다 . 그러다가 깜짝 놀라 일\\n어나고 말았다 . 소녀가 이리로 건너오고 있지 않느냐 .\\n‘숨어서 내가 하는 일을 엿보고 있었구나 .’ 소년은 달리기를 시작했다 . 디딤돌을 헛디뎠다 . \\n한 발이 물 속에 빠졌다 . 더 달렸다 .\\n몸을 가릴 데가 있어 줬으면 좋겠다 . 이 쪽 길에는 갈밭도 없다. 메밀밭이다 . 전에 없이 메\\n밀꽃 냄새가 짜릿하게 코를 찌른다고 생각됐다 . 미간이 아찔했다 . 찝찔한 액체가 입술에 \\n흘러들었다 . 코피였다 .\\n소년은 한 손으로 코피를 훔쳐내면서 그냥 달렸다 . 어디선가 ‘바보, 바보’ 하는 소리가 자\\n꾸만 뒤따라오는 것 같았다 .\\n토요일이었다 .\\n개울가에 이르니 , 며칠째 보이지 않던 소녀가 건너편 가에 앉아 물장난을 하고 있었다 . 모\\n르는 체 징검다리를 건너기 시작했다 . 얼마 전에 소녀 앞에서 한 번 실수를 했을 뿐, 여태 \\n큰길 가듯이 건너던 징검다리를 오늘은 조심스럽게 건넌다 .\\n“얘.”\\n못 들은 체했다 . 둑 위로 올라섰다 .\\n“얘, 이게 무슨 조개지 ?”\\n자기도 모르게 돌아섰다 . 소녀의 맑고 검은 눈과 마주쳤다 . 얼른 소녀의 손바닥으로 눈을 \\n떨구었다 .\\n“비단조개 .”\\n“이름도 참 곱다.”\\n갈림길에 왔다. 여기서 소녀는 아래편으로 한 삼 마장쯤 , 소년은 우대로 한 십 리 가까운 \\n길을 가야 한다.\\n소녀가 걸음을 멈추며 ,\\n“너, 저 산 너머에 가 본 일 있니?”\\n벌 끝을 가리켰다 .\\n“없다.”\\n“우리, 가 보지 않으련 ? 시골 오니까 혼자서 심심해 못 견디겠다 .”\\n“저래 봬도 멀다.”\\n“멀면 얼마나 멀기에 ? 서울 있을 땐 사뭇 먼 데까지 소풍 갔었다 .”\\n소녀의 눈이 금새 ‘바보,바보,’할 것만 같았다 .\\n논 사잇길로 들어섰다 . 벼 가을걷이하는 곁을 지났다 .\\n허수아비가 서 있었다 . 소년이 새끼줄을 흔들었다 . 참새가 몇 마리 날아간다 . ‘참, 오늘은 \\n일찍 집으로 돌아가 텃논의 참새를 봐야 할걸.’ 하는 생각이 든다.\\n“야, 재밌다 !”\\n소녀가 허수아비 줄을 잡더니 흔들어 댄다. 허수아비가 자꾸 우쭐거리며 춤을 춘다. 소녀\\n의 왼쪽 볼에 살포시 보조개가 패었다 .\\n저만큼 허수아비가 또 서 있다. 소녀가 그리로 달려간다 . 그 뒤를 소년도 달렸다 . 오늘 같\\n은 날은 일찍 집으로 돌아가 집안일을 도와야 한다는 생각을 잊어버리기라도 하려는 듯이.\\n소녀의 곁을 스쳐 그냥 달린다 . 메뚜기가 따끔따끔 얼굴에 와 부딪친다 . 쪽빛으로 한껏 갠 가을 \\n하늘이 소년의 눈앞에서 맴을 돈다. 어지럽다 . 저놈의 독수리 , 저놈의 독수리 , 저놈의 독수리가 \\n맴을 돌고 있기 때문이다 .', metadata={'source': '소나기 - 황순원.pdf', 'page': 1}),\n",
       " Document(page_content='- 3 -돌아다보니 , 소녀는 지금 자기가 지나쳐 온 허수아비를 흔들고 있다. 좀 전 허수아비보다 \\n더 우쭐거린다 .\\n논이 끝난 곳에 도랑이 하나 있었다 . 소녀가 먼저 뛰어 건넜다 .\\n거기서부터 산 밑까지는 밭이었다 .\\n수숫단을 세워 놓은 밭머리를 지났다 .\\n“저게 뭐니?”\\n“원두막 .”\\n“여기 참외, 맛있니 ?”\\n“그럼, 참외 맛도 좋지만 수박 맛은 더 좋다.”\\n“하나 먹어 봤으면 .”\\n소년이 참외 그루에 심은 무우밭으로 들어가 , 무우 두 밑을 뽑아 왔다. 아직 밑이 덜 들어 \\n있었다 . 잎을 비틀어 팽개친 후, 소녀에게 한개 건넨다 . 그리고는 이렇게 먹어야 한다는 듯\\n이, 먼저 대강이를 한 입 베물어 낸 다음, 손톱으로 한 돌이 껍질을 벗겨 우쩍 깨문다 .\\n소녀도 따라 했다. 그러나 , 세 입도 못 먹고,\\n“아, 맵고 지려.”\\n하며 집어던지고 만다.\\n“참, 맛 없어 못 먹겠다 .”\\n소년이 더 멀리 팽개쳐 버렸다 .\\n산이 가까워졌다 .\\n단풍이 눈에 따가웠다 .\\n“야아!”\\n소녀가 산을 향해 달려갔다 . 이번은 소년이 뒤따라 달리지 않았다 . 그러고도 곧 소녀보다 \\n더 많은 꽃을 꺾었다 .\\n“이게 들국화 , 이게 싸리꽃 , 이게 도라지꽃 ,…….”\\n“도라지꽃이 이렇게 예쁜 줄은 몰랐네 . 난 보랏빛이 좋아!…… 그런데 , 이 양산 같이 생긴 \\n노란 꽃이 뭐지?”\\n“마타리꽃 .”\\n소녀는 마타리꽃을 양산 받듯이 해 보인다 . 약간 상기된 얼굴에 살포시 보조개를 떠올리\\n며.\\n다시 소년은 꽃 한 옴큼을 꺾어 왔다. 싱싱한 꽃가지만 골라 소녀에게 건넨다 .\\n그러나 소녀는\\n“하나도 버리지 마라.”\\n산마루께로 올라갔다 .\\n맞은편 골짜기에 오순도순 초가집이 몇 모여 있었다 .\\n누가 말할 것도 아닌데 , 바위에 나란히 걸터앉았다 . 유달리 주위가 조용해진 것 같았다 . 따\\n가운 가을 햇살만이 말라가는 풀 냄새를 퍼뜨리고 있었다 .\\n“저건 또 무슨 꽃이지 ?”\\n적잖이 비탈진 곳에 칡덩굴이 엉키어 꽃을 달고 있었다 .\\n“꼭 등꽃 같네. 서울 우리 학교에 큰 등나무가 있었단다 . 저 꽃을 보니까 등나무 밑에서 \\n놀던 동무들 생각이 난다.”\\n소녀가 조용히 일어나 비탈진 곳으로 간다. 꽃송이가 많이 달린 줄기를 잡고 끊기 시작한', metadata={'source': '소나기 - 황순원.pdf', 'page': 2})]"
      ]
     },
     "execution_count": 11,
     "metadata": {},
     "output_type": "execute_result"
    }
   ],
   "source": [
    "docs[:3]"
   ]
  },
  {
   "cell_type": "code",
   "execution_count": 12,
   "id": "8b7dc692-944e-4bf1-b773-845bd1f88d1d",
   "metadata": {},
   "outputs": [
    {
     "name": "stderr",
     "output_type": "stream",
     "text": [
      "/home/ubuntu/.local/lib/python3.10/site-packages/langchain_core/_api/deprecation.py:117: LangChainDeprecationWarning: The class `langchain_community.chat_models.openai.ChatOpenAI` was deprecated in langchain-community 0.0.10 and will be removed in 0.2.0. An updated version of the class exists in the langchain-openai package and should be used instead. To use it run `pip install -U langchain-openai` and import as `from langchain_openai import ChatOpenAI`.\n",
      "  warn_deprecated(\n",
      "/home/ubuntu/.local/lib/python3.10/site-packages/langchain_core/_api/deprecation.py:117: LangChainDeprecationWarning: The function `run` was deprecated in LangChain 0.1.0 and will be removed in 0.2.0. Use invoke instead.\n",
      "  warn_deprecated(\n"
     ]
    },
    {
     "name": "stdout",
     "output_type": "stream",
     "text": [
      "\n",
      "\n",
      "\u001b[1m> Entering new MapReduceDocumentsChain chain...\u001b[0m\n",
      "\n",
      "\n",
      "\u001b[1m> Entering new LLMChain chain...\u001b[0m\n",
      "Prompt after formatting:\n",
      "\u001b[32;1m\u001b[1;3mWrite a concise summary of the following:\n",
      "\n",
      "\n",
      "\"- 1 -소나기\n",
      "황순원\n",
      "소년은 개울가에서 소녀를 보자 곧 윤 초시네 증손녀 (曾孫女 )딸이라는 걸 알 수 있었다 . \n",
      "소녀는 개울에다 손을 잠그고 물장난을 하고 있는 것이다 . 서울서는 이런 개울물을 보지 \n",
      "못하기나 한 듯이.\n",
      "벌써 며칠째 소녀는 , 학교에서 돌아오는 길에 물장난이었다 . 그런데 , 어제까지 개울 기슭에\n",
      "서 하더니 , 오늘은 징검다리 한가운데 앉아서 하고 있다.\n",
      "소년은 개울둑에 앉아 버렸다 . 소녀가 비키기를 기다리자는 것이다 .\n",
      "요행 지나가는 사람이 있어, 소녀가 길을 비켜 주었다 .\n",
      "다음 날은 좀 늦게 개울가로 나왔다 .\n",
      "이 날은 소녀가 징검다리 한가운데 앉아 세수를 하고 있었다 . 분홍 스웨터 소매를 걷어올\n",
      "린 목덜미가 마냥 희었다 .\n",
      "한참 세수를 하고 나더니 , 이번에는 물 속을 빤히 들여다 본다. 얼굴이라도 비추어 보는 \n",
      "것이리라 . 갑자기 물을 움켜 낸다. 고기 새끼라도 지나가는 듯.\n",
      "소녀는 소년이 개울둑에 앉아 있는 걸 아는지 모르는지 그냥 날쌔게 물만 움켜 낸다. 그러\n",
      "나, 번번이 허탕이다 . 그대로 재미있는 양, 자꾸 물만 움킨다 . 어제처럼 개울을 건너는 사\n",
      "람이 있어야 길을 비킬 모양이다 .\n",
      "그러다가 소녀가 물 속에서 무엇을 하나 집어 낸다. 하얀 조약돌이었다 . 그리고는 벌떡 일\n",
      "어나 팔짝팔짝 징검다리를 뛰어 건너간다 .\n",
      "다 건너가더니만 홱 이리로 돌아서며 ,\n",
      "“이 바보.”\n",
      "조약돌이 날아왔다 .\n",
      "소년은 저도 모르게 벌떡 일어섰다 .\n",
      "단발 머리를 나풀거리며 소녀가 막 달린다 . 갈밭 사잇길로 들어섰다 . 뒤에는 청량한 가을 \n",
      "햇살 아래 빛나는 갈꽃뿐 .\n",
      "이제 저쯤 갈밭머리로 소녀가 나타나리라 . 꽤 오랜 시간이 지났다고 생각됐다 . 그런데도 \n",
      "소녀는 나타나지 않는다 . 발돋움을 했다. 그러고도 상당한 시간이 지났다고 생각됐다 .\n",
      "저 쪽 갈밭머리에 갈꽃이 한 옴큼 움직였다 . 소녀가 갈꽃을 안고 있었다 . 그리고 , 이제는 \n",
      "천천한 걸음이었다 . 유난히 맑은 가을 햇살이 소녀의 갈꽃머리에서 반짝거렸다 . 소녀 아닌 \n",
      "갈꽃이 들길을 걸어가는 것만 같았다 .\n",
      "소년은 이 갈꽃이 아주 뵈지 않게 되기까지 그대로 서 있었다 . 문득, 소녀가 던지 조약돌\n",
      "을 내려다보았다 . 물기가 걷혀 있었다 . 소년은 조약돌을 집어 주머니에 넣었다 .\n",
      "다음 날부터 좀더 늦게 개울가로 나왔다 . 소녀의 그림자가 뵈지 않았다 . 다행이었다 .\n",
      "그러나 , 이상한 일이었다 . 소녀의 그림자가 뵈지 않는 날이 계속될수록 소년의 가슴 한 구\n",
      "석에는 어딘가 허전함이 자리 잡는 것이었다 . 주머니 속 조약돌을 주무르는 버릇이 생겼\n",
      "다.\n",
      "그러한 어떤 날, 소년은 전에 소녀가 앉아 물장난을 하던 징검다리 한가운데에 앉아 보았\n",
      "다. 물 속에 손을 잠갔다 . 세수를 하였다 . 물 속을 들여다보았다 . 검게 탄 얼굴이 그대로 \n",
      "비치었다 . 싫었다 .\"\n",
      "\n",
      "\n",
      "CONCISE SUMMARY:\u001b[0m\n",
      "Prompt after formatting:\n",
      "\u001b[32;1m\u001b[1;3mWrite a concise summary of the following:\n",
      "\n",
      "\n",
      "\"- 2 -소년은 두 손으로 물 속의 얼굴을 움키었다 . 몇 번이고 움키었다 . 그러다가 깜짝 놀라 일\n",
      "어나고 말았다 . 소녀가 이리로 건너오고 있지 않느냐 .\n",
      "‘숨어서 내가 하는 일을 엿보고 있었구나 .’ 소년은 달리기를 시작했다 . 디딤돌을 헛디뎠다 . \n",
      "한 발이 물 속에 빠졌다 . 더 달렸다 .\n",
      "몸을 가릴 데가 있어 줬으면 좋겠다 . 이 쪽 길에는 갈밭도 없다. 메밀밭이다 . 전에 없이 메\n",
      "밀꽃 냄새가 짜릿하게 코를 찌른다고 생각됐다 . 미간이 아찔했다 . 찝찔한 액체가 입술에 \n",
      "흘러들었다 . 코피였다 .\n",
      "소년은 한 손으로 코피를 훔쳐내면서 그냥 달렸다 . 어디선가 ‘바보, 바보’ 하는 소리가 자\n",
      "꾸만 뒤따라오는 것 같았다 .\n",
      "토요일이었다 .\n",
      "개울가에 이르니 , 며칠째 보이지 않던 소녀가 건너편 가에 앉아 물장난을 하고 있었다 . 모\n",
      "르는 체 징검다리를 건너기 시작했다 . 얼마 전에 소녀 앞에서 한 번 실수를 했을 뿐, 여태 \n",
      "큰길 가듯이 건너던 징검다리를 오늘은 조심스럽게 건넌다 .\n",
      "“얘.”\n",
      "못 들은 체했다 . 둑 위로 올라섰다 .\n",
      "“얘, 이게 무슨 조개지 ?”\n",
      "자기도 모르게 돌아섰다 . 소녀의 맑고 검은 눈과 마주쳤다 . 얼른 소녀의 손바닥으로 눈을 \n",
      "떨구었다 .\n",
      "“비단조개 .”\n",
      "“이름도 참 곱다.”\n",
      "갈림길에 왔다. 여기서 소녀는 아래편으로 한 삼 마장쯤 , 소년은 우대로 한 십 리 가까운 \n",
      "길을 가야 한다.\n",
      "소녀가 걸음을 멈추며 ,\n",
      "“너, 저 산 너머에 가 본 일 있니?”\n",
      "벌 끝을 가리켰다 .\n",
      "“없다.”\n",
      "“우리, 가 보지 않으련 ? 시골 오니까 혼자서 심심해 못 견디겠다 .”\n",
      "“저래 봬도 멀다.”\n",
      "“멀면 얼마나 멀기에 ? 서울 있을 땐 사뭇 먼 데까지 소풍 갔었다 .”\n",
      "소녀의 눈이 금새 ‘바보,바보,’할 것만 같았다 .\n",
      "논 사잇길로 들어섰다 . 벼 가을걷이하는 곁을 지났다 .\n",
      "허수아비가 서 있었다 . 소년이 새끼줄을 흔들었다 . 참새가 몇 마리 날아간다 . ‘참, 오늘은 \n",
      "일찍 집으로 돌아가 텃논의 참새를 봐야 할걸.’ 하는 생각이 든다.\n",
      "“야, 재밌다 !”\n",
      "소녀가 허수아비 줄을 잡더니 흔들어 댄다. 허수아비가 자꾸 우쭐거리며 춤을 춘다. 소녀\n",
      "의 왼쪽 볼에 살포시 보조개가 패었다 .\n",
      "저만큼 허수아비가 또 서 있다. 소녀가 그리로 달려간다 . 그 뒤를 소년도 달렸다 . 오늘 같\n",
      "은 날은 일찍 집으로 돌아가 집안일을 도와야 한다는 생각을 잊어버리기라도 하려는 듯이.\n",
      "소녀의 곁을 스쳐 그냥 달린다 . 메뚜기가 따끔따끔 얼굴에 와 부딪친다 . 쪽빛으로 한껏 갠 가을 \n",
      "하늘이 소년의 눈앞에서 맴을 돈다. 어지럽다 . 저놈의 독수리 , 저놈의 독수리 , 저놈의 독수리가 \n",
      "맴을 돌고 있기 때문이다 .\"\n",
      "\n",
      "\n",
      "CONCISE SUMMARY:\u001b[0m\n",
      "Prompt after formatting:\n",
      "\u001b[32;1m\u001b[1;3mWrite a concise summary of the following:\n",
      "\n",
      "\n",
      "\"- 3 -돌아다보니 , 소녀는 지금 자기가 지나쳐 온 허수아비를 흔들고 있다. 좀 전 허수아비보다 \n",
      "더 우쭐거린다 .\n",
      "논이 끝난 곳에 도랑이 하나 있었다 . 소녀가 먼저 뛰어 건넜다 .\n",
      "거기서부터 산 밑까지는 밭이었다 .\n",
      "수숫단을 세워 놓은 밭머리를 지났다 .\n",
      "“저게 뭐니?”\n",
      "“원두막 .”\n",
      "“여기 참외, 맛있니 ?”\n",
      "“그럼, 참외 맛도 좋지만 수박 맛은 더 좋다.”\n",
      "“하나 먹어 봤으면 .”\n",
      "소년이 참외 그루에 심은 무우밭으로 들어가 , 무우 두 밑을 뽑아 왔다. 아직 밑이 덜 들어 \n",
      "있었다 . 잎을 비틀어 팽개친 후, 소녀에게 한개 건넨다 . 그리고는 이렇게 먹어야 한다는 듯\n",
      "이, 먼저 대강이를 한 입 베물어 낸 다음, 손톱으로 한 돌이 껍질을 벗겨 우쩍 깨문다 .\n",
      "소녀도 따라 했다. 그러나 , 세 입도 못 먹고,\n",
      "“아, 맵고 지려.”\n",
      "하며 집어던지고 만다.\n",
      "“참, 맛 없어 못 먹겠다 .”\n",
      "소년이 더 멀리 팽개쳐 버렸다 .\n",
      "산이 가까워졌다 .\n",
      "단풍이 눈에 따가웠다 .\n",
      "“야아!”\n",
      "소녀가 산을 향해 달려갔다 . 이번은 소년이 뒤따라 달리지 않았다 . 그러고도 곧 소녀보다 \n",
      "더 많은 꽃을 꺾었다 .\n",
      "“이게 들국화 , 이게 싸리꽃 , 이게 도라지꽃 ,…….”\n",
      "“도라지꽃이 이렇게 예쁜 줄은 몰랐네 . 난 보랏빛이 좋아!…… 그런데 , 이 양산 같이 생긴 \n",
      "노란 꽃이 뭐지?”\n",
      "“마타리꽃 .”\n",
      "소녀는 마타리꽃을 양산 받듯이 해 보인다 . 약간 상기된 얼굴에 살포시 보조개를 떠올리\n",
      "며.\n",
      "다시 소년은 꽃 한 옴큼을 꺾어 왔다. 싱싱한 꽃가지만 골라 소녀에게 건넨다 .\n",
      "그러나 소녀는\n",
      "“하나도 버리지 마라.”\n",
      "산마루께로 올라갔다 .\n",
      "맞은편 골짜기에 오순도순 초가집이 몇 모여 있었다 .\n",
      "누가 말할 것도 아닌데 , 바위에 나란히 걸터앉았다 . 유달리 주위가 조용해진 것 같았다 . 따\n",
      "가운 가을 햇살만이 말라가는 풀 냄새를 퍼뜨리고 있었다 .\n",
      "“저건 또 무슨 꽃이지 ?”\n",
      "적잖이 비탈진 곳에 칡덩굴이 엉키어 꽃을 달고 있었다 .\n",
      "“꼭 등꽃 같네. 서울 우리 학교에 큰 등나무가 있었단다 . 저 꽃을 보니까 등나무 밑에서 \n",
      "놀던 동무들 생각이 난다.”\n",
      "소녀가 조용히 일어나 비탈진 곳으로 간다. 꽃송이가 많이 달린 줄기를 잡고 끊기 시작한\"\n",
      "\n",
      "\n",
      "CONCISE SUMMARY:\u001b[0m\n",
      "Prompt after formatting:\n",
      "\u001b[32;1m\u001b[1;3mWrite a concise summary of the following:\n",
      "\n",
      "\n",
      "\"- 4 -다. 좀처럼 끊어지지 않는다 . 안간힘을 쓰다가 그만 미끄러지고 만다. 칡덩굴을 그러쥐었\n",
      "다.\n",
      "소년이 놀라 달려갔다 . 소녀가 손을 내밀었다 . 손을 잡아 이끌어 올리며 , 소년은 제가 꺾어\n",
      "다 줄 것을 잘못했다고 뉘우친다 . 소녀의 오른쪽 무릎에 핏방울이 내맺혔다 . 소년은 저도 \n",
      "모르게 생채기에 입술을 가져다 대고 빨기 시작했다 . 그러다가 , 무슨 생각을 했는지 홱 일\n",
      "어나 저 쪽으로 달려간다 .\n",
      "좀 만에 숨이 차 돌아온 소년은\n",
      "“이걸 바르면 낫는다 .”\n",
      "송진을 생채기에다 문질러 바르고는 그 달음으로 칡덩굴 있는 데로 내려가 , 꽃 많이 달린 \n",
      "몇 줄기를 이빨로 끊어 가지고 올라온다 . 그리고는 ,\n",
      "“저기 송아지가 있다. 그리 가 보자.”\n",
      "누렁송아지였다 . 아직 코뚜레도 꿰지 않았다 .\n",
      "소년이 고삐를 바투 잡아 쥐고 등을 긁어 주는 체 훌쩍 올라탔다 . 송아지가 껑충거리며 돌\n",
      "아간다 .\n",
      "소녀의 흰 얼굴이 , 분홍 스웨터가 , 남색 스커트가 , 안고 있는 꽃과 함께 범벅이 된다. 모두\n",
      "가 하나의 큰 꽃묶음 같다. 어지럽다 . 그러나 , 내리지 않으리라 . 자랑스러웠다 . 이것만은 \n",
      "소녀가 흉내 내지 못할, 자기 혼자만이 할 수 있는 일인 것이다 .\n",
      "“너희, 예서 뭣들 하느냐 ?”\n",
      "농부(農夫)하나가 억새풀 사이로 올라왔다 .\n",
      "송아지 등에서 뛰어내렸다 . 어린 송아지를 타서 허리가 상하면 어쩌느냐고 꾸지람을 들을 \n",
      "것만 같다.\n",
      "그런데 , 나룻이 긴 농부는 소녀 편을 한 번 훑어보고는 그저 송아지 고삐를 풀어 내면서 ,\n",
      "“어서들 집으로 가거라 . 소나기가 올라.”\n",
      "참, 먹장구름 한 장이 머리 위에 와 있다. 갑자기 사면이 소란스러워진 것 같다. 바람이 우\n",
      "수수 소리를 내며 지나간다 . 삽시간에 주위가 보랏빛으로 변했다 .\n",
      "산을 내려오는데 , 떡갈나무 잎에서 빗방울 듣는 소리가 난다. 굵은 빗방울이었다 . 목덜미가 \n",
      "선뜻선뜻했다 . 그러자 , 대번에 눈앞을 가로막는 빗줄기 .\n",
      "비안개 속에 원두막이 보였다 . 그리로 가 비를 그을 수밖에 .\n",
      "그러나 , 원두막은 기둥이 기울고 지붕도 갈래갈래 찢어져 있었다 . 그런 대로 비가 덜 새는 \n",
      "곳을 가려 소녀를 들어서게 했다.\n",
      "소녀의 입술이 파아랗게 질렸다 . 어깨를 자꾸 떨었다 .\n",
      "무명 겹저고리를 벗어 소녀의 어깨를 싸 주었다 . 소녀는 비에 젖은 눈을 들어 한 번 쳐다\n",
      "보았을 뿐, 소년이 하는 대로 잠자코 있었다 . 그리고는 , 안고 온 꽃묶음 속에서 가지가 꺾\n",
      "이고 꽃이 일그러진 송이를 골라 발 밑에 버린다 . 소녀가 들어선 곳도 비가 새기 시작했\n",
      "다. 더 거기서 비를 그을 수 없었다 .\n",
      "밖을 내다보던 소년이 무엇을 생각했는지 수수밭 쪽으로 달려간다 . 세워 놓은 수숫단 속을 \n",
      "비집어 보더니 , 옆의 수숫단을 날라다 덧세운다 . 다시 속을 비집어 본다. 그리고는 이쪽을 \n",
      "향해 손짓을 한다.\n",
      "수숫단 속은 비는 안 새었다 . 그저 어둡고 좁은 게 안 됐다. 앞에 나앉은 소년은 그냥 비\n",
      "를 맞아야만 했다. 그런 소년의 어깨에서 김이 올랐다 .\n",
      "소녀가 속삭이듯이 , 이리 들어와 앉으라고 했다. 괜찮다고 했다. 소녀가 다시, 들어와 앉으\"\n",
      "\n",
      "\n",
      "CONCISE SUMMARY:\u001b[0m\n",
      "Prompt after formatting:\n",
      "\u001b[32;1m\u001b[1;3mWrite a concise summary of the following:\n",
      "\n",
      "\n",
      "\"- 5 -라고 했다. 할 수 없이 뒷걸음질을 쳤다. 그 바람에 , 소녀가 안고 있는 꽃묶음이 망그러졌\n",
      "다. 그러나 , 소녀는 상관없다고 생각했다 . 비에 젖은 소년의 몸 내음새가 확 코에 끼얹혀졌\n",
      "다. 그러나 , 고개를 돌리지 않았다 . 도리어 소년의 몸기운으로 해서 떨리던 몸이 적이 누그\n",
      "러지는 느낌이었다 .\n",
      "소란하던 수숫잎 소리가 뚝 그쳤다 . 밖이 멀개졌다 .\n",
      "수숫단 속을 벗어 나왔다 . 멀지 않은 앞쪽에 햇빛이 눈부시게 내리붓고 있었다 . 도랑 있는 \n",
      "곳까지 와 보니, 엄청나게 물이 불어 있었다 . 빛마저 제법 붉은 흙탕물이었다 . 뛰어 건널 \n",
      "수가 없었다 .\n",
      "소년이 등을 돌려 댔다. 소녀가 순순히 업히었다 . 걷어올린 소년의 잠방이까지 물이 올라\n",
      "왔다. 소녀는 ‘어머나 ’소리를 지르며 소년의 목을 끌어안았다 .\n",
      "개울가에 다다르기 전에, 가을 하늘이 언제 그랬는가 싶게 구름 한 점 없이 쪽빛으로 개어 \n",
      "있었다 .\n",
      "그 뒤로 소녀의 모습은 뵈지 않았다 . 매일같이 개울가로 달려와 봐도 뵈지 않았다 .\n",
      "학교에서 쉬는 시간에 운동장을 살피기도 했다. 남 몰래 5학년 여자 반을 엿보기도 했다. \n",
      "그러나 , 뵈지 않았다 .\n",
      "그날도 소년은 주머니 속 흰 조약돌만 만지작거리며 개울가로 나왔다 . 그랬더니 , 이 쪽 개\n",
      "울둑에 소녀가 앉아 있는 게 아닌가 .\n",
      "소년은 가슴부터 두근거렸다 .\n",
      "“그 동안 앓았다 .”\n",
      "어쩐지 소녀의 얼굴이 해쓱해져 있었다 .\n",
      "“그 날, 소나기 맞은 탓 아냐?”\n",
      "소녀가 가만히 고개를 끄덕이었다 .\n",
      "“인제 다 났냐?”\n",
      "“아직도 …….”\n",
      "“그럼, 누워 있어야지 .”\n",
      "“하도 갑갑해서 나왔다 . ……참, 그 날 재밌었어 ……. 그런데그 날 어디서 이런 물이 들었\n",
      "는지 잘 지지 않는다 .”\n",
      "소녀가 분홍 스웨터 앞자락을 내려다본다 . 거기에 검붉은 진흙물 같은 게 들어 있었다 .\n",
      "소녀가 가만히 보조개를 떠올리며 ,\n",
      "“그래 이게 무슨 물 같니?”\n",
      "소년은 스웨터 앞자락만 바라보고 있었다 .\n",
      "“내, 생각해 냈다. 그 날, 도랑을 건너면서 내가 업힌 일이 있지? 그 때, 네 등에서 옮은 \n",
      "물이다 .”\n",
      "소년은 얼굴이 확 달아오름을 느꼈다 .\n",
      "갈림길에서 소녀는\n",
      "“저, 오늘 아침에 우리 집에서 대추를 땄다. 낼 제사 지내려고 …….”\n",
      "대추 한 줌을 내준다 . 소년은 주춤한다 .\n",
      "“맛봐라 . 우리 증조(曾祖)할아버지가 심었다는데 , 아주 달다.”\n",
      "소년은 두 손을 오그려 내밀며 ,\n",
      "“참, 알도 굵다!”\n",
      "“그리고 저, 우리 이번에 제사 지내고 나서 좀 있다. 집을 내주게 됐다.”\"\n",
      "\n",
      "\n",
      "CONCISE SUMMARY:\u001b[0m\n",
      "Prompt after formatting:\n",
      "\u001b[32;1m\u001b[1;3mWrite a concise summary of the following:\n",
      "\n",
      "\n",
      "\"- 6 -소년은 소녀네가 이사해 오기 전에 벌써 어른들의 이야기를 들어서 , 윤 초시 손자(孫子)가 \n",
      "서울서 사업에 실패해 가지고 고향에 돌아오지 않을 수 없게 되었다는 걸 알고 있었다 . 그\n",
      "것이 이번에는 고향 집마저 남의 손에 넘기게 된 모양이었다 .\n",
      "“왜 그런지 난 이사 가는 게 싫어졌다 . 어른들이 하는 일이니 어쩔 수 없지만 …….”\n",
      "전에 없이, 소녀의 까만 눈에 쓸쓸한 빛이 떠돌았다 .\n",
      "소녀와 헤어져 돌아오는 길에, 소년은 혼잣속으로 , 소녀가 이사를 간다는 말을 수없이 되\n",
      "뇌어 보았다 . 무어 그리 안타까울 것도 서러울 것도 없었다 . 그렇건만 , 소년은 지금 자기가 \n",
      "씹고 있는 대추알의 단맛을 모르고 있었다 .\n",
      "이 날 밤, 소년은 몰래 덕쇠 할아버지네 호두밭으로 갔다.\n",
      "낯에 봐 두었던 나무로 올라갔다 . 그리고 , 봐 두었던 가지를 향해 작대기를 내리쳤다 . 호두\n",
      "송이 떨어지는 소리가 별나게 크게 들렸다 . 가슴이 선뜩했다 . 그러나 다음 순간, 굵은 호두\n",
      "야 많이 떨어져라 , 많이 떨어져라 , 저도 모를 힘에 이끌려 마구 작대기를 내리 치는 것이\n",
      "었다.\n",
      "돌아오는 길에는 열 이틀 달이 지우는 그늘만 골라 디뎠다 . 그늘의 고마움을 처음 느꼈다 .\n",
      "불룩한 주머니를 어루만졌다 . 호두송이를 맨손으로 깠다가는 옴이 오르기 쉽다는 말 같은 건 아\n",
      "무렇지도 않았다 . 그저 근동에서 제일 가는 이 덕쇠 할아버지네 호두를 어서 소녀에게 맛보여야 \n",
      "한다는 생각만이 앞섰다 .\n",
      "그러다 , 아차 하는 생각이 들었다 . 소녀더러 병이 좀 낫거들랑 이사 가기 전에 한 번 개울\n",
      "가로 나와 달라는 말을 못해 둔 것이었다 . 바보 같은것 , 바보 같은것 .\n",
      "이튿날 , 소년이 학교에서 돌아오니 , 아버지가 나들이옷으로 갈아입고 닭 한 마리를 안고 \n",
      "있었다 .\n",
      "어디 가시느냐고 물었다 .\n",
      "그 말에도 대꾸도 없이, 아버지는 안고 있는 닭의 무게를 겨냥해 보면서 ,\n",
      "“이만하면 될까?”\n",
      "어머니가 망태기를 내주며 ,\n",
      "“벌써 며칠째 ‘걀걀’하고 알 날 자리를 보던데요 . 크진 않아도살은 쪘을 거여요 .”\n",
      "소년이 이번에는 어머니한테 아버지가 어디 가시느냐고 물어 보았다 .\n",
      "“저, 서당골 윤 초시 댁에 가신다 . 제삿상에라도 놓으시라고 …….”\n",
      "“그럼, 큰 놈으로 하나 가져가지 . 저 얼룩수탉으로 …….”\n",
      "이 말에, 아버지는 허허 웃고 나서,\n",
      "“임마, 그래도 이게 실속이 있다.”\n",
      "소년은 공연히 열적어 , 책보를 집어던지고는 외양간으로가 , 쇠잔등을 한 번 철썩 갈겼다 . \n",
      "쇠파리라도 잡는 체.\n",
      "개울물은 날로 여물어 갔다.\n",
      "소년은 갈림길에서 아래쪽으로 가 보았다 . 갈밭머리에서 바라보는 서당골 마을은 쪽빛 하\n",
      "늘 아래 한결 가까워 보였다 .\n",
      "어른들의 말이, 내일 소녀네가 양평읍으로 이사 간다는 것이었다 . 거기 가서는 조그마한 \n",
      "가겟방을 보게 되리라는 것이었다 .\n",
      "소년은 저도 모르게 주머니 속 호두알을 만지작거리며 , 한 손으로는 수없이 갈꽃을 휘어 \n",
      "꺾고 있었다 .\n",
      "그 날 밤, 소년은 자리에 누워서도 같은 생각뿐이었다 . 내일 소녀네가 이사하는 걸 가 보\"\n",
      "\n",
      "\n",
      "CONCISE SUMMARY:\u001b[0m\n",
      "Prompt after formatting:\n",
      "\u001b[32;1m\u001b[1;3mWrite a concise summary of the following:\n",
      "\n",
      "\n",
      "\"- 7 -나 어쩌나 . 가면 소녀를 보게 될까 어떨까 .\n",
      "그러다가 까무룩 잠이 들었는가 하는데 ,\n",
      "“허, 참 세상일도 …….”\n",
      "마을 갔던 아버지가 언제 돌아왔는지 ,\n",
      "“윤 초시 댁도 말이 아니야 , 그 많던 전답을 다 팔아 버리고 , 대대로 살아오던 집마저 남\n",
      "의 손에 넘기더니 , 또 악상까지 당하는걸 보면…….”\n",
      "남폿불 밑에서 바느질감을 안고 있던 어머니가 ,\n",
      "“증손(曾孫)이라곤 계집애 그 애 하나뿐이었지요 ?”\n",
      "“그렇지 , 사내 애 둘 있던 건 어려서 잃어버리고 …….”\n",
      "“어쩌면 그렇게 자식복이 없을까 .”\n",
      "“글쎄 말이지 . 이번 앤 꽤 여러 날 앓는 걸 약도 변변히 못써 봤다더군 . 지금 같아서 윤 \n",
      "초시네도 대가 끊긴 셈이지 .……그런데참 , 이번 계집앤 어린 것이 여간 잔망스럽지가 않아. \n",
      "글쎄, 죽기전에 이런 말을 했다지 않아? 자기가 죽거든 자기 입던 옷을 꼭그대로 입혀서 \n",
      "묻어 달라고 …….”\"\n",
      "\n",
      "\n",
      "CONCISE SUMMARY:\u001b[0m\n",
      "\n",
      "\u001b[1m> Finished chain.\u001b[0m\n",
      "\n",
      "\n",
      "\u001b[1m> Entering new LLMChain chain...\u001b[0m\n",
      "Prompt after formatting:\n",
      "\u001b[32;1m\u001b[1;3mWrite a concise summary of the following:\n",
      "\n",
      "\n",
      "\"A boy sees a girl playing in a stream and becomes infatuated with her. He waits for her to notice him, but she continues to ignore him. Eventually, she throws a rock at him and runs away. The boy starts to feel empty without her presence and develops a habit of carrying the rock she threw at him. He continues to visit the stream in hopes of seeing her again.\n",
      "\n",
      "A boy playing in the water is surprised to see a girl approaching. He runs to her, accidentally stepping into the water. They chat and she suggests they go explore beyond the mountain. They play with scarecrows and the boy is reminded to go home early to see the sparrows in the rice paddies. The girl playfully hits the boy's cheek, and they run towards a scarecrow together. They both get distracted by the sight of a kite in the sky.\n",
      "\n",
      "A girl and a boy walk through fields and enjoy picking flowers together. The girl tries a radish but finds it too spicy, and the boy picks her fresh flowers. They eventually sit together and enjoy the peaceful surroundings.\n",
      "\n",
      "A boy accidentally injures a girl while playing, then helps her treat the wound and they encounter a calf. A storm approaches, and they seek shelter in a dilapidated hut. The boy shows concern and care for the girl, and they seek refuge in a nearby haystack. They eventually move to seek shelter in a more secure location as the storm intensifies.\n",
      "\n",
      "A boy and girl meet by a stream, where the girl's flowers get ruined in the rain. The boy helps her cross the stream, and they share a moment together. Despite the girl disappearing afterwards, the boy continues to search for her. They meet again by the stream, where the girl reveals that she has been ill and her family will be moving soon.\n",
      "\n",
      "A boy learns about his grandfather's failed business and the family's impending move, leading him to reflect on his feelings towards the girl next door. He visits his grandfather's walnut orchard and has a realization about expressing his feelings before it's too late. The next day, his father prepares to visit the girl's family with a gift. The boy contemplates the upcoming move and his unspoken feelings for the girl.\n",
      "\n",
      "A family discusses the struggles of their neighbors, who have sold their ancestral home and are facing financial difficulties. The mother worries about their lack of grandchildren, while the father ponders the fate of their sick daughter-in-law. There is a sense of sadness and uncertainty about the family's future.\"\n",
      "\n",
      "\n",
      "CONCISE SUMMARY:\u001b[0m\n",
      "\n",
      "\u001b[1m> Finished chain.\u001b[0m\n",
      "\n",
      "\u001b[1m> Finished chain.\u001b[0m\n"
     ]
    },
    {
     "data": {
      "text/plain": [
       "\"A boy becomes infatuated with a girl he sees playing in a stream, but she initially ignores him. They eventually bond over various activities, but their time together is cut short due to the girl's illness and impending move. The boy reflects on his feelings and decides to express them before it's too late. The story also touches on themes of family struggles, financial difficulties, and uncertainty about the future.\""
      ]
     },
     "execution_count": 12,
     "metadata": {},
     "output_type": "execute_result"
    }
   ],
   "source": [
    "from langchain.chains.summarize import load_summarize_chain\n",
    "from langchain.chat_models import ChatOpenAI\n",
    "\n",
    "chat = ChatOpenAI(model_name='gpt-3.5-turbo', temperature=0.9)\n",
    "chain = load_summarize_chain(chat, chain_type=\"map_reduce\", verbose=True)\n",
    "chain.run(docs)"
   ]
  },
  {
   "cell_type": "code",
   "execution_count": 13,
   "id": "195decc1-4078-440c-97eb-8aaee4b628f7",
   "metadata": {},
   "outputs": [],
   "source": [
    "from langchain.embeddings import HuggingFaceEmbeddings\n",
    "from langchain.embeddings import OpenAIEmbeddings\n",
    "\n",
    "# embeddings = OpenAIEmbeddings()\n",
    "embeddings = HuggingFaceEmbeddings()\n",
    "\n",
    "from langchain.indexes import VectorstoreIndexCreator\n",
    "from langchain.vectorstores import FAISS\n",
    "\n",
    "index = VectorstoreIndexCreator(\n",
    "    vectorstore_cls=FAISS,\n",
    "    embedding=embeddings,\n",
    "    ).from_loaders([loader])\n",
    "\n",
    "# 파일로 저장\n",
    "index.vectorstore.save_local(\"shower\")"
   ]
  },
  {
   "cell_type": "code",
   "execution_count": 14,
   "id": "760a50f3-2377-415b-a670-34ba62851e97",
   "metadata": {},
   "outputs": [
    {
     "name": "stdout",
     "output_type": "stream",
     "text": [
      "\n",
      "\n",
      "\u001b[1m> Entering new RetrievalQA chain...\u001b[0m\n",
      "\n",
      "\u001b[1m> Finished chain.\u001b[0m\n"
     ]
    },
    {
     "data": {
      "text/plain": [
       "'소년은 처음으로 소녀를 개울가에서 만났습니다.'"
      ]
     },
     "execution_count": 14,
     "metadata": {},
     "output_type": "execute_result"
    }
   ],
   "source": [
    "index.query(\"소년은 어디에서 처음 소녀를 만났나?\", llm=chat, verbose=True)"
   ]
  },
  {
   "cell_type": "code",
   "execution_count": 15,
   "id": "8b12b0ea-0ec5-4a2e-ab95-6b1d270d07a5",
   "metadata": {},
   "outputs": [
    {
     "name": "stdout",
     "output_type": "stream",
     "text": [
      "\n",
      "\n",
      "\u001b[1m> Entering new RetrievalQA chain...\u001b[0m\n",
      "\n",
      "\u001b[1m> Finished chain.\u001b[0m\n"
     ]
    },
    {
     "data": {
      "text/plain": [
       "'소년은 소년에게 호두알을 주려고 했습니다.'"
      ]
     },
     "execution_count": 15,
     "metadata": {},
     "output_type": "execute_result"
    }
   ],
   "source": [
    "index.query(\"소년은 소녀에게 무엇을 주려고 했나?\", llm=chat, verbose=True)"
   ]
  },
  {
   "cell_type": "code",
   "execution_count": 16,
   "id": "3bf4817b-f838-49e0-9dc9-afcb77af5fd1",
   "metadata": {},
   "outputs": [
    {
     "name": "stdout",
     "output_type": "stream",
     "text": [
      "\n",
      "\n",
      "\u001b[1m> Entering new RetrievalQA chain...\u001b[0m\n",
      "\n",
      "\u001b[1m> Finished chain.\u001b[0m\n"
     ]
    },
    {
     "data": {
      "text/plain": [
       "'소녀는 소년에게 꽃묶음을 주었습니다.'"
      ]
     },
     "execution_count": 16,
     "metadata": {},
     "output_type": "execute_result"
    }
   ],
   "source": [
    "index.query(\"소녀는 소년에게 무엇을 주었나?\", llm=chat, verbose=True)"
   ]
  },
  {
   "cell_type": "code",
   "execution_count": 17,
   "id": "88f35631-687d-4664-9424-0f73f1ad3c78",
   "metadata": {},
   "outputs": [
    {
     "name": "stdout",
     "output_type": "stream",
     "text": [
      "\n",
      "\n",
      "\u001b[1m> Entering new RetrievalQA chain...\u001b[0m\n",
      "\n",
      "\u001b[1m> Finished chain.\u001b[0m\n"
     ]
    },
    {
     "data": {
      "text/plain": [
       "'소녀는 윤 초시네 증손녀(曾孫女)로 소년은 윤 초시네 증손녀(曾孫女)딸이라는 것을 알게 될 수 있습니다. 이들은 서로 증손으로 관계가 있습니다.'"
      ]
     },
     "execution_count": 17,
     "metadata": {},
     "output_type": "execute_result"
    }
   ],
   "source": [
    "index.query(\"소녀와 윤초시는 어떤 관계인가?\", llm=chat, verbose=True)"
   ]
  },
  {
   "cell_type": "code",
   "execution_count": null,
   "id": "7a9d2c47-b6d6-429e-a3db-c7c7f9bed6f2",
   "metadata": {},
   "outputs": [],
   "source": []
  }
 ],
 "metadata": {
  "kernelspec": {
   "display_name": "Python 3 (ipykernel)",
   "language": "python",
   "name": "python3"
  },
  "language_info": {
   "codemirror_mode": {
    "name": "ipython",
    "version": 3
   },
   "file_extension": ".py",
   "mimetype": "text/x-python",
   "name": "python",
   "nbconvert_exporter": "python",
   "pygments_lexer": "ipython3",
   "version": "3.10.12"
  }
 },
 "nbformat": 4,
 "nbformat_minor": 5
}
