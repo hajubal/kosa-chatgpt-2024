{
 "cells": [
  {
   "cell_type": "code",
   "execution_count": null,
   "id": "c7b7ece3-d09c-430c-9496-93086756d69e",
   "metadata": {},
   "outputs": [],
   "source": [
    "# https://www.data.go.kr/data/15101933/openapi.do 고캠핑 API"
   ]
  },
  {
   "cell_type": "code",
   "execution_count": null,
   "id": "96343cfc-f053-4f64-9536-9e366571666e",
   "metadata": {},
   "outputs": [],
   "source": [
    "ServiceKey = \"\""
   ]
  },
  {
   "cell_type": "code",
   "execution_count": null,
   "id": "58bf5c85-8c0b-44cf-a642-7e98c64305d9",
   "metadata": {},
   "outputs": [],
   "source": [
    "from urllib.parse import quote\n",
    "\n",
    "KeyWord = quote(\"계곡\")\n",
    "print(KeyWord)"
   ]
  },
  {
   "cell_type": "code",
   "execution_count": null,
   "id": "911444e6-6694-4cbd-9f07-2fe672147ca3",
   "metadata": {},
   "outputs": [],
   "source": [
    "url = f\"http://apis.data.go.kr/B551011/GoCamping/searchList?serviceKey={ServiceKey}&keyword={KeyWord}&numOfRows=10&pageNo=1&MobileOS=ETC&MobileApp=TestApp&_type=json\""
   ]
  },
  {
   "cell_type": "code",
   "execution_count": null,
   "id": "434c41ce-e480-464d-8e1b-d3b3b1d8a7ab",
   "metadata": {},
   "outputs": [],
   "source": [
    "print(url)"
   ]
  },
  {
   "cell_type": "code",
   "execution_count": null,
   "id": "06e3063a-93b2-480b-a53b-db66ae1ce7d3",
   "metadata": {},
   "outputs": [],
   "source": [
    "import requests\n",
    "\n",
    "def get_url_content(url):\n",
    "    try:\n",
    "        response = requests.get(url)\n",
    "        if response.status_code == 200:\n",
    "            return response.text\n",
    "        else:\n",
    "            response.raise_for_status()\n",
    "\n",
    "    except requests.exceptions.RequestException as e:\n",
    "        print(f\"Request Exception: {e}\")\n",
    "        return None\n",
    "\n",
    "result = get_url_content(url)\n",
    "if result is not None:\n",
    "    print(result)\n",
    "else:\n",
    "    print(\"Failed to retrieve URL content.\")"
   ]
  },
  {
   "cell_type": "code",
   "execution_count": null,
   "id": "d9176bd8-d696-44b8-bb3b-346602139300",
   "metadata": {},
   "outputs": [],
   "source": [
    "import json\n",
    "\n",
    "data = json.loads(result)\n",
    "sites = data['response']['body']['items']['item']"
   ]
  },
  {
   "cell_type": "code",
   "execution_count": null,
   "id": "94a5887d-4ef7-432c-96b6-ad976e466799",
   "metadata": {},
   "outputs": [],
   "source": [
    "for site in sites:\n",
    "    print(site['facltNm'] + \":\" + site['intro'])"
   ]
  },
  {
   "cell_type": "code",
   "execution_count": null,
   "id": "f84c36ae-69b8-4a42-b736-23bbe17a164f",
   "metadata": {},
   "outputs": [],
   "source": [
    "question = \"계곡이 있는 캠핑장을 추천해줘.\""
   ]
  },
  {
   "cell_type": "code",
   "execution_count": null,
   "id": "8ceed593-a00e-4195-93c3-83c0cfe0804b",
   "metadata": {},
   "outputs": [],
   "source": [
    "import os\n",
    "import openai\n",
    "\n",
    "openai.api_key = os.getenv(\"OPENAI_API_KEY\")\n",
    "\n",
    "response = openai.chat.completions.create(\n",
    "  model=\"gpt-3.5-turbo\",\n",
    "  messages=[\n",
    "    {\n",
    "      \"role\": \"system\",\n",
    "      \"content\": \"다음 질문에서 가장 중요한 키워드 단어 하나만 뽑아줘.\"\n",
    "    },\n",
    "    {\n",
    "      \"role\": \"user\",\n",
    "      \"content\": question\n",
    "    }\n",
    "  ],\n",
    "  temperature=0,\n",
    "  max_tokens=1024,\n",
    "  top_p=1,\n",
    "  frequency_penalty=0,\n",
    "  presence_penalty=0\n",
    ")\n",
    "\n",
    "print(response.choices[0].message.content)"
   ]
  },
  {
   "cell_type": "code",
   "execution_count": null,
   "id": "a1f34bc0-7ff5-4f4a-99a4-80874f826ba3",
   "metadata": {},
   "outputs": [],
   "source": [
    "KeyWord = response.choices[0].message.content"
   ]
  },
  {
   "cell_type": "code",
   "execution_count": null,
   "id": "b6e4d063-b717-4aa4-8a90-155a311779c4",
   "metadata": {},
   "outputs": [],
   "source": [
    "url = f\"http://apis.data.go.kr/B551011/GoCamping/searchList?serviceKey={ServiceKey}&keyword={KeyWord}&numOfRows=10&pageNo=1&MobileOS=ETC&MobileApp=TestApp&_type=json\""
   ]
  },
  {
   "cell_type": "code",
   "execution_count": null,
   "id": "ff6e3f69-41c0-4846-b708-080a5dcb0b51",
   "metadata": {},
   "outputs": [],
   "source": [
    "result = get_url_content(url)\n",
    "\n",
    "import json\n",
    "\n",
    "data = json.loads(result)\n",
    "sites = data['response']['body']['items']['item']\n",
    "\n",
    "context = ''\n",
    "i = 1;\n",
    "for site in sites:\n",
    "    context = context + str(i) + \") \" + site['facltNm'] + \":\" + site['intro'] + \"\\n\"\n",
    "    i = i + 1\n",
    "context"
   ]
  },
  {
   "cell_type": "code",
   "execution_count": null,
   "id": "ee440a77-5384-4ebb-a2bd-66c05f515722",
   "metadata": {},
   "outputs": [],
   "source": [
    "import os\n",
    "import openai\n",
    "\n",
    "openai.api_key = os.getenv(\"OPENAI_API_KEY\")\n",
    "\n",
    "response = openai.chat.completions.create(\n",
    "  model=\"gpt-3.5-turbo\",\n",
    "  messages=[\n",
    "    {\n",
    "      \"role\": \"system\",\n",
    "      \"content\": f\"주어진 문단을 보고 다음 질문에 답해줘: {question}\"\n",
    "    },\n",
    "    {\n",
    "      \"role\": \"user\",\n",
    "      \"content\": context\n",
    "    }\n",
    "  ],\n",
    "  temperature=0,\n",
    "  max_tokens=1024,\n",
    "  top_p=1,\n",
    "  frequency_penalty=0,\n",
    "  presence_penalty=0\n",
    ")\n",
    "\n",
    "print(response.choices[0].message.content)"
   ]
  },
  {
   "cell_type": "markdown",
   "id": "097f3bea",
   "metadata": {},
   "source": []
  },
  {
   "cell_type": "code",
   "execution_count": null,
   "id": "8fe5ff5b-e5da-4f30-8e41-4f8a9fe445e9",
   "metadata": {},
   "outputs": [],
   "source": []
  }
 ],
 "metadata": {
  "kernelspec": {
   "display_name": "Python 3 (ipykernel)",
   "language": "python",
   "name": "python3"
  },
  "language_info": {
   "codemirror_mode": {
    "name": "ipython",
    "version": 3
   },
   "file_extension": ".py",
   "mimetype": "text/x-python",
   "name": "python",
   "nbconvert_exporter": "python",
   "pygments_lexer": "ipython3",
   "version": "3.10.12"
  }
 },
 "nbformat": 4,
 "nbformat_minor": 5
}
